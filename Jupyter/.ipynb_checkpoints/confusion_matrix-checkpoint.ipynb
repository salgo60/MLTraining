{
 "cells": [
  {
   "cell_type": "markdown",
   "id": "cd3edbff",
   "metadata": {},
   "source": [
    "* [skytowner](https://www.skytowner.com/explore/comprehensive_guide_on_confusion_matrix)"
   ]
  },
  {
   "cell_type": "code",
   "execution_count": 4,
   "id": "a7f9b3aa",
   "metadata": {},
   "outputs": [
    {
     "data": {
      "text/plain": [
       "array([[2, 3],\n",
       "       [1, 5]])"
      ]
     },
     "execution_count": 4,
     "metadata": {},
     "output_type": "execute_result"
    }
   ],
   "source": [
    "from sklearn.metrics import confusion_matrix\n",
    "\n",
    "true = [0,0,1,1,1,1,1,1,0,0,0]   # actual labels\n",
    "pred = [0,0,0,1,1,1,1,1,1,1,1]   # predicted labels\n",
    "matrix = confusion_matrix(true, pred)   # returns a NumPy array\n",
    "matrix\n"
   ]
  },
  {
   "cell_type": "code",
   "execution_count": 5,
   "id": "bebf2d47",
   "metadata": {},
   "outputs": [
    {
     "data": {
      "text/plain": [
       "<AxesSubplot:>"
      ]
     },
     "execution_count": 5,
     "metadata": {},
     "output_type": "execute_result"
    },
    {
     "data": {
      "image/png": "[encoded data removed]",
      "text/plain": [
       "<Figure size 432x288 with 2 Axes>"
      ]
     },
     "metadata": {
      "needs_background": "light"
     },
     "output_type": "display_data"
    }
   ],
   "source": [
    "import seaborn as sns\n",
    "sns.heatmap(matrix, annot=True, cmap='Blues')"
   ]
  },
  {
   "cell_type": "code",
   "execution_count": 6,
   "id": "7223f900",
   "metadata": {},
   "outputs": [
    {
     "name": "stdout",
     "output_type": "stream",
     "text": [
      "              precision    recall  f1-score   support\n",
      "\n",
      "           0       0.67      0.40      0.50         5\n",
      "           1       0.62      0.83      0.71         6\n",
      "\n",
      "    accuracy                           0.64        11\n",
      "   macro avg       0.65      0.62      0.61        11\n",
      "weighted avg       0.64      0.64      0.62        11\n",
      "\n"
     ]
    }
   ],
   "source": [
    "from sklearn.metrics import classification_report\n",
    "print(classification_report(true, pred))"
   ]
  },
  {
   "cell_type": "markdown",
   "id": "da2586cc",
   "metadata": {},
   "source": [
    "[Comprehensive Guide on Cross Validation](https://www.skytowner.com/explore/comprehensive_guide_on_cross_validation)"
   ]
  },
  {
   "cell_type": "code",
   "execution_count": null,
   "id": "8d05b3cb",
   "metadata": {},
   "outputs": [],
   "source": []
  }
 ],
 "metadata": {
  "kernelspec": {
   "display_name": "Python 3",
   "language": "python",
   "name": "python3"
  },
  "language_info": {
   "codemirror_mode": {
    "name": "ipython",
    "version": 3
   },
   "file_extension": ".py",
   "mimetype": "text/x-python",
   "name": "python",
   "nbconvert_exporter": "python",
   "pygments_lexer": "ipython3",
   "version": "3.9.4"
  }
 },
 "nbformat": 4,
 "nbformat_minor": 5
}
