{
 "cells": [
  {
   "cell_type": "markdown",
   "id": "3ff272df",
   "metadata": {},
   "source": [
    "* [linear_regression](https://ml-cheatsheet.readthedocs.io/en/latest/linear_regression.html#simple-regression)"
   ]
  },
  {
   "cell_type": "code",
   "execution_count": 1,
   "id": "20acca79",
   "metadata": {},
   "outputs": [],
   "source": [
    "def predict_sales(radio, weight, bias):\n",
    "    return weight*radio + bias\n",
    "def cost_function(radio, sales, weight, bias):\n",
    "    companies = len(radio)\n",
    "    total_error = 0.0\n",
    "    for i in range(companies):\n",
    "        total_error += (sales[i] - (weight*radio[i] + bias))**2\n",
    "    return total_error / companies"
   ]
  },
  {
   "cell_type": "code",
   "execution_count": 2,
   "id": "c3e6eb8f",
   "metadata": {},
   "outputs": [],
   "source": [
    "def update_weights(radio, sales, weight, bias, learning_rate):\n",
    "    weight_deriv = 0\n",
    "    bias_deriv = 0\n",
    "    companies = len(radio)\n",
    "\n",
    "    for i in range(companies):\n",
    "        # Calculate partial derivatives\n",
    "        # -2x(y - (mx + b))\n",
    "        weight_deriv += -2*radio[i] * (sales[i] - (weight*radio[i] + bias))\n",
    "\n",
    "        # -2(y - (mx + b))\n",
    "        bias_deriv += -2*(sales[i] - (weight*radio[i] + bias))\n",
    "\n",
    "    # We subtract because the derivatives point in direction of steepest ascent\n",
    "    weight -= (weight_deriv / companies) * learning_rate\n",
    "    bias -= (bias_deriv / companies) * learning_rate\n",
    "\n",
    "    return weight, bias"
   ]
  },
  {
   "cell_type": "code",
   "execution_count": 5,
   "id": "8ebad752",
   "metadata": {},
   "outputs": [],
   "source": [
    "def train(radio, sales, weight, bias, learning_rate, iters):\n",
    "    cost_history = []\n",
    "\n",
    "    for i in range(iters):\n",
    "        weight,bias = update_weights(radio, sales, weight, bias, learning_rate)\n",
    "\n",
    "        #Calculate cost for auditing purposes\n",
    "        cost = cost_function(radio, sales, weight, bias)\n",
    "        cost_history.append(cost)\n",
    "\n",
    "        # Log Progress\n",
    "        if i % 10 == 0:\n",
    "            print (\"iter={:d}    weight={:.2f}    bias={:.4f}    cost={:.2}\".format(i, weight, bias, cost))\n",
    "\n",
    "    return weight, bias, cost_history\n"
   ]
  },
  {
   "cell_type": "code",
   "execution_count": null,
   "id": "ff94a05b",
   "metadata": {},
   "outputs": [],
   "source": []
  }
 ],
 "metadata": {
  "kernelspec": {
   "display_name": "Python 3",
   "language": "python",
   "name": "python3"
  },
  "language_info": {
   "codemirror_mode": {
    "name": "ipython",
    "version": 3
   },
   "file_extension": ".py",
   "mimetype": "text/x-python",
   "name": "python",
   "nbconvert_exporter": "python",
   "pygments_lexer": "ipython3",
   "version": "3.9.4"
  }
 },
 "nbformat": 4,
 "nbformat_minor": 5
}
