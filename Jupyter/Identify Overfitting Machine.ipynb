{
 "cells": [
  {
   "cell_type": "markdown",
   "id": "b1db864f",
   "metadata": {},
   "source": [
    "Identify Overfitting Machine Learning Models in Scikit-Learn\n",
    "* [machinelearningmastery.com](https://machinelearningmastery.com/overfitting-machine-learning-models/)"
   ]
  },
  {
   "cell_type": "code",
   "execution_count": 1,
   "id": "e9006333",
   "metadata": {},
   "outputs": [
    {
     "name": "stdout",
     "output_type": "stream",
     "text": [
      "(10000, 20) (10000,)\n"
     ]
    }
   ],
   "source": [
    "# synthetic classification dataset\n",
    "from sklearn.datasets import make_classification\n",
    "# define dataset\n",
    "X, y = make_classification(n_samples=10000, n_features=20, n_informative=5, n_redundant=15, random_state=1)\n",
    "# summarize the dataset\n",
    "print(X.shape, y.shape)"
   ]
  },
  {
   "cell_type": "code",
   "execution_count": 14,
   "id": "eb5be05b",
   "metadata": {},
   "outputs": [
    {
     "name": "stdout",
     "output_type": "stream",
     "text": [
      "(7000, 20) (3000, 20) (7000,) (3000,)\n"
     ]
    }
   ],
   "source": [
    "# split into train test sets\n",
    "X_train, X_test, y_train, y_test = train_test_split(X, y, test_size=0.3)\n",
    "# summarize the shape of the train and test sets\n",
    "print(X_train.shape, X_test.shape, y_train.shape, y_test.shape)"
   ]
  },
  {
   "cell_type": "code",
   "execution_count": 15,
   "id": "89e543e4",
   "metadata": {},
   "outputs": [],
   "source": []
  },
  {
   "cell_type": "code",
   "execution_count": 22,
   "id": "b7b557f9",
   "metadata": {},
   "outputs": [
    {
     "name": "stdout",
     "output_type": "stream",
     "text": [
      ">1, train: 0.775, test: 0.748\n",
      ">2, train: 0.814, test: 0.805\n",
      ">3, train: 0.886, test: 0.876\n",
      ">4, train: 0.906, test: 0.890\n",
      ">5, train: 0.919, test: 0.906\n",
      ">6, train: 0.934, test: 0.921\n",
      ">7, train: 0.946, test: 0.922\n",
      ">8, train: 0.953, test: 0.922\n",
      ">9, train: 0.961, test: 0.922\n",
      ">10, train: 0.970, test: 0.921\n",
      ">11, train: 0.976, test: 0.919\n",
      ">12, train: 0.982, test: 0.922\n",
      ">13, train: 0.986, test: 0.922\n",
      ">14, train: 0.990, test: 0.917\n",
      ">15, train: 0.994, test: 0.918\n",
      ">16, train: 0.995, test: 0.914\n",
      ">17, train: 0.996, test: 0.914\n",
      ">18, train: 0.997, test: 0.911\n",
      ">19, train: 0.998, test: 0.912\n",
      ">20, train: 0.998, test: 0.910\n"
     ]
    },
    {
     "data": {
      "image/png": "[encoded data removed]",
      "text/plain": [
       "<Figure size 432x288 with 1 Axes>"
      ]
     },
     "metadata": {
      "needs_background": "light"
     },
     "output_type": "display_data"
    }
   ],
   "source": [
    "# create dataset\n",
    "X, y = make_classification(n_samples=10000, n_features=20, n_informative=5, n_redundant=15, random_state=1)\n",
    "# split into train test sets\n",
    "X_train, X_test, y_train, y_test = train_test_split(X, y, test_size=0.3)\n",
    "# define lists to collect scores\n",
    "train_scores, test_scores = list(), list()\n",
    "# define the tree depths to evaluate\n",
    "values = [i for i in range(1, 21)]\n",
    "# evaluate a decision tree for each depth\n",
    "for i in values:\n",
    "\t# configure the model\n",
    "\tmodel = DecisionTreeClassifier(max_depth=i)\n",
    "\t# fit model on the training dataset\n",
    "\tmodel.fit(X_train, y_train)\n",
    "\t# evaluate on the train dataset\n",
    "\ttrain_yhat = model.predict(X_train)\n",
    "\ttrain_acc = accuracy_score(y_train, train_yhat)\n",
    "\ttrain_scores.append(train_acc)\n",
    "\t# evaluate on the test dataset\n",
    "\ttest_yhat = model.predict(X_test)\n",
    "\ttest_acc = accuracy_score(y_test, test_yhat)\n",
    "\ttest_scores.append(test_acc)\n",
    "\t# summarize progress\n",
    "\tprint('>%d, train: %.3f, test: %.3f' % (i, train_acc, test_acc))\n",
    "# plot of train and test scores vs tree depth\n",
    "pyplot.plot(values, train_scores, '-o', label='Train')\n",
    "pyplot.plot(values, test_scores, '-o', label='Test')\n",
    "pyplot.legend()\n",
    "pyplot.show()"
   ]
  },
  {
   "cell_type": "code",
   "execution_count": 23,
   "id": "37af1e0b",
   "metadata": {},
   "outputs": [
    {
     "name": "stdout",
     "output_type": "stream",
     "text": [
      ">1, train: 1.000, test: 0.915\n",
      ">2, train: 0.962, test: 0.912\n",
      ">3, train: 0.960, test: 0.934\n",
      ">4, train: 0.955, test: 0.932\n",
      ">5, train: 0.954, test: 0.937\n",
      ">6, train: 0.953, test: 0.940\n",
      ">7, train: 0.950, test: 0.940\n",
      ">8, train: 0.947, test: 0.939\n",
      ">9, train: 0.946, test: 0.935\n",
      ">10, train: 0.946, test: 0.936\n",
      ">11, train: 0.944, test: 0.941\n",
      ">12, train: 0.944, test: 0.937\n",
      ">13, train: 0.943, test: 0.937\n",
      ">14, train: 0.943, test: 0.937\n",
      ">15, train: 0.943, test: 0.938\n",
      ">16, train: 0.942, test: 0.940\n",
      ">17, train: 0.941, test: 0.940\n",
      ">18, train: 0.941, test: 0.940\n",
      ">19, train: 0.942, test: 0.941\n",
      ">20, train: 0.941, test: 0.941\n",
      ">21, train: 0.941, test: 0.941\n",
      ">22, train: 0.941, test: 0.941\n",
      ">23, train: 0.939, test: 0.939\n",
      ">24, train: 0.939, test: 0.941\n",
      ">25, train: 0.939, test: 0.940\n",
      ">26, train: 0.939, test: 0.940\n",
      ">27, train: 0.937, test: 0.938\n",
      ">28, train: 0.937, test: 0.939\n",
      ">29, train: 0.936, test: 0.940\n",
      ">30, train: 0.936, test: 0.938\n",
      ">31, train: 0.936, test: 0.937\n",
      ">32, train: 0.937, test: 0.935\n",
      ">33, train: 0.936, test: 0.936\n",
      ">34, train: 0.935, test: 0.934\n",
      ">35, train: 0.935, test: 0.936\n",
      ">36, train: 0.935, test: 0.936\n",
      ">37, train: 0.934, test: 0.935\n",
      ">38, train: 0.935, test: 0.935\n",
      ">39, train: 0.934, test: 0.935\n",
      ">40, train: 0.934, test: 0.934\n",
      ">41, train: 0.933, test: 0.934\n",
      ">42, train: 0.933, test: 0.935\n",
      ">43, train: 0.933, test: 0.934\n",
      ">44, train: 0.933, test: 0.934\n",
      ">45, train: 0.932, test: 0.934\n",
      ">46, train: 0.933, test: 0.933\n",
      ">47, train: 0.932, test: 0.934\n",
      ">48, train: 0.931, test: 0.934\n",
      ">49, train: 0.932, test: 0.935\n",
      ">50, train: 0.931, test: 0.936\n"
     ]
    },
    {
     "data": {
      "image/png": "[encoded data removed]",
      "text/plain": [
       "<Figure size 432x288 with 1 Axes>"
      ]
     },
     "metadata": {
      "needs_background": "light"
     },
     "output_type": "display_data"
    }
   ],
   "source": [
    "# evaluate knn performance on train and test sets with different numbers of neighbors\n",
    "from sklearn.datasets import make_classification\n",
    "from sklearn.model_selection import train_test_split\n",
    "from sklearn.metrics import accuracy_score\n",
    "from sklearn.neighbors import KNeighborsClassifier\n",
    "from matplotlib import pyplot\n",
    "# create dataset\n",
    "X, y = make_classification(n_samples=10000, n_features=20, n_informative=5, n_redundant=15, random_state=1)\n",
    "# split into train test sets\n",
    "X_train, X_test, y_train, y_test = train_test_split(X, y, test_size=0.3)\n",
    "# define lists to collect scores\n",
    "train_scores, test_scores = list(), list()\n",
    "# define the tree depths to evaluate\n",
    "values = [i for i in range(1, 51)]\n",
    "# evaluate a decision tree for each depth\n",
    "for i in values:\n",
    "\t# configure the model\n",
    "\tmodel = KNeighborsClassifier(n_neighbors=i)\n",
    "\t# fit model on the training dataset\n",
    "\tmodel.fit(X_train, y_train)\n",
    "\t# evaluate on the train dataset\n",
    "\ttrain_yhat = model.predict(X_train)\n",
    "\ttrain_acc = accuracy_score(y_train, train_yhat)\n",
    "\ttrain_scores.append(train_acc)\n",
    "\t# evaluate on the test dataset\n",
    "\ttest_yhat = model.predict(X_test)\n",
    "\ttest_acc = accuracy_score(y_test, test_yhat)\n",
    "\ttest_scores.append(test_acc)\n",
    "\t# summarize progress\n",
    "\tprint('>%d, train: %.3f, test: %.3f' % (i, train_acc, test_acc))\n",
    "# plot of train and test scores vs number of neighbors\n",
    "pyplot.plot(values, train_scores, '-o', label='Train')\n",
    "pyplot.plot(values, test_scores, '-o', label='Test')\n",
    "pyplot.legend()\n",
    "pyplot.show()"
   ]
  },
  {
   "cell_type": "code",
   "execution_count": 33,
   "id": "1616655b",
   "metadata": {},
   "outputs": [
    {
     "data": {
      "text/plain": [
       "(array([[-0.29723716, -0.41137022, -1.04630912, -1.99091434,  1.27736666],\n",
       "        [ 0.68976757, -0.51230898,  1.35648065,  1.27071476, -0.9567447 ],\n",
       "        [ 2.00510727, -1.09598021, -2.04217779, -0.64101993, -0.24699108],\n",
       "        [-0.40396334,  1.23946515, -3.6665896 , -1.56776004,  1.01763577],\n",
       "        [-1.90665539,  2.16050669, -2.12812014, -0.91384022,  1.09807665],\n",
       "        [ 2.62104669, -1.19206929, -2.6752792 , -0.44005054, -0.5631906 ]]),\n",
       " array([0, 0, 1, 1, 0, 1]))"
      ]
     },
     "execution_count": 33,
     "metadata": {},
     "output_type": "execute_result"
    }
   ],
   "source": [
    "#make_classification(n_samples=4, n_features=5, n_informative=3, n_redundant=15, random_state=1)   \n",
    "make_classification(n_samples=6, n_features=5, n_informative=3)"
   ]
  },
  {
   "cell_type": "code",
   "execution_count": null,
   "id": "20aea770",
   "metadata": {},
   "outputs": [],
   "source": []
  },
  {
   "cell_type": "code",
   "execution_count": null,
   "id": "f6a6d2a0",
   "metadata": {},
   "outputs": [],
   "source": []
  }
 ],
 "metadata": {
  "kernelspec": {
   "display_name": "Python 3",
   "language": "python",
   "name": "python3"
  },
  "language_info": {
   "codemirror_mode": {
    "name": "ipython",
    "version": 3
   },
   "file_extension": ".py",
   "mimetype": "text/x-python",
   "name": "python",
   "nbconvert_exporter": "python",
   "pygments_lexer": "ipython3",
   "version": "3.9.4"
  }
 },
 "nbformat": 4,
 "nbformat_minor": 5
}
